{
 "cells": [
  {
   "cell_type": "markdown",
   "metadata": {},
   "source": []
  },
  {
   "cell_type": "markdown",
   "metadata": {},
   "source": [
    "## Computing IoU"
   ]
  },
  {
   "cell_type": "code",
   "execution_count": 7,
   "metadata": {},
   "outputs": [
    {
     "name": "stdout",
     "output_type": "stream",
     "text": [
      "(4,) (4,)\n",
      "20735 13456\n",
      "[860  68] [976 176]\n",
      "[116 108]\n",
      "[116 108]\n",
      "12528\n",
      "IoU: 0.5783132530120482\n"
     ]
    }
   ],
   "source": [
    "import numpy as np\n",
    "\n",
    "def compute_iou(box1, box2):\n",
    "    \"\"\"\n",
    "    This function computes the intersection-over-union of two boxes.\n",
    "    Both boxes are expected to be in (x1, y1, x2, y2) format.\n",
    "    Arguments:\n",
    "        box1 (Array[4]): The first box.\n",
    "        box2 (Array[4]): The second box.\n",
    "    Returns:\n",
    "        iou (float): The intersection-over-union value for the two boxes.\n",
    "    \"\"\"\n",
    "    print(box1.shape, box2.shape)\n",
    "    # Calculate the area of each box\n",
    "    area1 = np.prod(box1[2:] - box1[:2])\n",
    "    area2 = np.prod(box2[2:] - box2[:2])\n",
    "    print(area1, area2)\n",
    "\n",
    "    # Calculate the intersection coordinates (left top and right bottom)\n",
    "    lt = np.maximum(box1[:2], box2[:2])\n",
    "    rb = np.minimum(box1[2:], box2[2:])\n",
    "    print(lt, rb)\n",
    "    \n",
    "    # Calculate the intersection area\n",
    "    print(rb-lt)\n",
    "    intersection = np.prod(np.clip(rb - lt, a_min=0, a_max=None))\n",
    "    print(np.clip(rb - lt, a_min=0, a_max=None))\n",
    "    print(intersection)\n",
    "    # Calculate the union area\n",
    "    union = area1 + area2 - intersection\n",
    "    \n",
    "    # Calculate the IoU\n",
    "    iou = intersection / union if union > 0 else 0.0\n",
    "    \n",
    "    return iou\n",
    "\n",
    "# Example usage - Intersecting boxes\n",
    "detection = np.array([859, 31, 1002, 176])\n",
    "label = np.array([860, 68, 976, 184])\n",
    "iou_value = compute_iou(detection, label)\n",
    "print(\"IoU:\", iou_value)\n"
   ]
  },
  {
   "cell_type": "code",
   "execution_count": 4,
   "metadata": {},
   "outputs": [
    {
     "name": "stdout",
     "output_type": "stream",
     "text": [
      "15972 11664\n",
      "[810 744] [217 671]\n",
      "[-593  -73]\n",
      "[0 0]\n",
      "0\n",
      "IoU: 0.0\n"
     ]
    }
   ],
   "source": [
    "# Example: None intersection boxes\n",
    "detection = np.array([810, 744, 942, 865])\n",
    "label = np.array([109,563,217,671])\n",
    "iou_value = compute_iou(detection, label)\n",
    "print(\"IoU:\", iou_value)"
   ]
  },
  {
   "cell_type": "markdown",
   "metadata": {},
   "source": [
    "## Evaluation of the model"
   ]
  },
  {
   "cell_type": "code",
   "execution_count": null,
   "metadata": {},
   "outputs": [],
   "source": []
  }
 ],
 "metadata": {
  "kernelspec": {
   "display_name": "Python 3",
   "language": "python",
   "name": "python3"
  },
  "language_info": {
   "codemirror_mode": {
    "name": "ipython",
    "version": 3
   },
   "file_extension": ".py",
   "mimetype": "text/x-python",
   "name": "python",
   "nbconvert_exporter": "python",
   "pygments_lexer": "ipython3",
   "version": "3.9.2"
  },
  "orig_nbformat": 4
 },
 "nbformat": 4,
 "nbformat_minor": 2
}
